{
 "cells": [
  {
   "cell_type": "markdown",
   "metadata": {},
   "source": [
    "# rna_secstruct_design"
   ]
  },
  {
   "cell_type": "code",
   "execution_count": 2,
   "metadata": {},
   "outputs": [],
   "source": [
    "import yaml\n",
    "from rna_secstruct import SecStruct"
   ]
  },
  {
   "cell_type": "markdown",
   "metadata": {},
   "source": [
    "## selections\n",
    "\n",
    "Selections allow you to select the residues you need to include or exclude from an operation or simply find the indices of. "
   ]
  },
  {
   "cell_type": "code",
   "execution_count": 3,
   "metadata": {},
   "outputs": [],
   "source": [
    "from rna_secstruct_design.selection import (\n",
    "    get_selection,\n",
    "    get_selection_from_motifs,\n",
    ")"
   ]
  },
  {
   "cell_type": "markdown",
   "metadata": {},
   "source": [
    "### get_selection"
   ]
  },
  {
   "cell_type": "code",
   "execution_count": 4,
   "metadata": {},
   "outputs": [],
   "source": [
    "ss = SecStruct(\"AAGGCAGAUCUGAGCCUGGGAGCUCUCUGCCAC\", \"..((((((...((((......))))))))))..\")"
   ]
  },
  {
   "cell_type": "code",
   "execution_count": null,
   "metadata": {},
   "outputs": [],
   "source": []
  },
  {
   "cell_type": "markdown",
   "metadata": {},
   "source": [
    "### using MotifSearchParams\n",
    "\n",
    "Can specify any of these standard parameters plus\n",
    "`extend_flank` which extends a selection for each motif past a certain number of basepairs or bases. \n",
    "\n",
    "These standard parameters are\n",
    "`sequence`: matches specific sequence like GAAAC\n",
    "\n",
    "`structure`: matches a sequence structure (...)\n",
    "\n",
    "`m_type`: what type of motifs (HAIRPIN, HELIX, JUNCTION, SINGLESTRAND)\n",
    "\n",
    "`min_pos`: what is the first position you want to check like 50 would be the 50th position\n",
    "\n",
    "`max_pos`: what is the max position you want to check like 50 would be check the first 50 positions\n",
    "\n",
    "`min_id`: same as min_pos but for the id, 10 would check all motifs after the 10th\n",
    "\n",
    "`max_id`: same as max_pos but for the id, 10 would check all motifs before the 10th"
   ]
  },
  {
   "cell_type": "code",
   "execution_count": 5,
   "metadata": {},
   "outputs": [],
   "source": [
    "ss = SecStruct(\"AAGGGGAAAACCCCAA\", \"..((((....))))..\")"
   ]
  },
  {
   "cell_type": "code",
   "execution_count": 6,
   "metadata": {},
   "outputs": [
    {
     "name": "stdout",
     "output_type": "stream",
     "text": [
      "[2, 3, 4, 5, 10, 11, 12, 13]\n"
     ]
    }
   ],
   "source": [
    "params = {\"m_type\": \"HELIX\"}\n",
    "print(get_selection_from_motifs(ss, params))"
   ]
  },
  {
   "cell_type": "code",
   "execution_count": 7,
   "metadata": {},
   "outputs": [
    {
     "name": "stdout",
     "output_type": "stream",
     "text": [
      "[0, 1, 14, 15]\n"
     ]
    }
   ],
   "source": [
    "params = {\"m_type\" : \"SINGLESTRAND\"}\n",
    "print(get_selection_from_motifs(ss, params))"
   ]
  },
  {
   "cell_type": "code",
   "execution_count": 8,
   "metadata": {},
   "outputs": [
    {
     "name": "stdout",
     "output_type": "stream",
     "text": [
      "[5, 6, 7, 8, 9, 10]\n"
     ]
    }
   ],
   "source": [
    "params = {\"m_type\" : \"HAIRPIN\"}\n",
    "print(get_selection_from_motifs(ss, params))"
   ]
  },
  {
   "cell_type": "code",
   "execution_count": 9,
   "metadata": {},
   "outputs": [
    {
     "name": "stdout",
     "output_type": "stream",
     "text": [
      "[14, 15]\n"
     ]
    }
   ],
   "source": [
    "params = {\"m_type\" : \"SINGLESTRAND\", \"min_id\" : 1}\n",
    "print(get_selection_from_motifs(ss, params))"
   ]
  },
  {
   "cell_type": "code",
   "execution_count": 10,
   "metadata": {},
   "outputs": [
    {
     "name": "stdout",
     "output_type": "stream",
     "text": [
      "[0, 1]\n"
     ]
    }
   ],
   "source": [
    "params = { \"max_pos\" : 1}\n",
    "print(get_selection_from_motifs(ss, params))"
   ]
  },
  {
   "cell_type": "code",
   "execution_count": 11,
   "metadata": {},
   "outputs": [
    {
     "name": "stdout",
     "output_type": "stream",
     "text": [
      "[14, 15]\n"
     ]
    }
   ],
   "source": [
    "# these same parameters can be accessed using the `motif` name to start\n",
    "params = {\n",
    "    \"motif_1\" : {\n",
    "        \"m_type\" : \"SINGLESTRAND\",\n",
    "        \"min_id\" : 1\n",
    "    },\n",
    "}\n",
    "print(get_selection(ss, params))"
   ]
  },
  {
   "cell_type": "code",
   "execution_count": 12,
   "metadata": {},
   "outputs": [
    {
     "name": "stdout",
     "output_type": "stream",
     "text": [
      "[14, 15, 2, 3, 4, 5, 10, 11, 12, 13]\n"
     ]
    }
   ],
   "source": [
    "# can chain these together to get multiple motifs\n",
    "params = {\n",
    "    \"motif_1\" : {\n",
    "        \"m_type\" : \"SINGLESTRAND\",\n",
    "        \"min_id\" : 1\n",
    "    },\n",
    "    \"motif_2\" : {\n",
    "        \"m_type\" : \"HELIX\",\n",
    "    },\n",
    "}\n",
    "print(get_selection(ss, params))"
   ]
  },
  {
   "cell_type": "code",
   "execution_count": 18,
   "metadata": {},
   "outputs": [
    {
     "name": "stdout",
     "output_type": "stream",
     "text": [
      "[0, 1, 14, 15, 5, 6, 7, 8, 9, 10]\n"
     ]
    }
   ],
   "source": [
    "params = {\n",
    "    \"motif_1\" : {\n",
    "        \"m_type\" : \"SINGLESTRAND\",\n",
    "    },\n",
    "    \"motif_2\" : {\n",
    "        \"m_type\" : \"JUNCTION\",\n",
    "    },\n",
    "    \"motif_3\" : {\n",
    "        \"m_type\" : \"HAIRPIN\",\n",
    "    },\n",
    "}\n",
    "print(get_selection(ss, params))"
   ]
  },
  {
   "cell_type": "code",
   "execution_count": 17,
   "metadata": {},
   "outputs": [
    {
     "name": "stdout",
     "output_type": "stream",
     "text": [
      "[0, 1, 6, 7, 8, 9, 14, 15]\n"
     ]
    }
   ],
   "source": [
    "params = {\n",
    "    \"motif_1\" : {\n",
    "        \"m_type\" : \"HELIX\",\n",
    "    },\n",
    "    \"invert\" : True \n",
    "}\n",
    "print(get_selection(ss, params))"
   ]
  },
  {
   "cell_type": "code",
   "execution_count": 14,
   "metadata": {},
   "outputs": [
    {
     "name": "stdout",
     "output_type": "stream",
     "text": [
      "[14, 15, 2, 3, 4, 5, 10, 11, 12, 13]\n"
     ]
    }
   ],
   "source": [
    "# can read from string as well using yaml format or json format\n",
    "s = \"\"\"\n",
    "motif_1:\n",
    "    m_type: SINGLESTRAND\n",
    "    min_id: 1\n",
    "motif_2:\n",
    "    m_type: HELIX\n",
    "\"\"\"\n",
    "params = yaml.safe_load(s)\n",
    "print(get_selection(ss, params))"
   ]
  },
  {
   "cell_type": "code",
   "execution_count": null,
   "metadata": {},
   "outputs": [],
   "source": []
  }
 ],
 "metadata": {
  "kernelspec": {
   "display_name": "py3",
   "language": "python",
   "name": "python3"
  },
  "language_info": {
   "codemirror_mode": {
    "name": "ipython",
    "version": 3
   },
   "file_extension": ".py",
   "mimetype": "text/x-python",
   "name": "python",
   "nbconvert_exporter": "python",
   "pygments_lexer": "ipython3",
   "version": "3.8.16"
  }
 },
 "nbformat": 4,
 "nbformat_minor": 2
}
